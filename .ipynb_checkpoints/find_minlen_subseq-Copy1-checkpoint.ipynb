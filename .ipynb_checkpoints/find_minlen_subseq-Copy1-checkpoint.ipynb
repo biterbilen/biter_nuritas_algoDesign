{
 "cells": [
  {
   "cell_type": "markdown",
   "metadata": {},
   "source": [
    "Problem\n",
    "Assume you have the protein sequence attached below. It's composed of 800 amino acids.\n",
    "\n",
    "Can you find the length of the shortest subsequence that needs to be replaced in order to have all the amino acids equally represented? That means same numbers of \"A\", \"C\", \"D\" and so on.\n",
    "\n",
    "Input the length of the sequence that you found into the \"Answer\" field to go to the next stage. \n",
    "\n",
    "NB: Make your code as efficient as you can, you might be asked to explain your solution if you are selected for an interview.\n",
    "http://nuritas.peptify.com:8080/job_test/test?id=Bioinformatician_01"
   ]
  },
  {
   "cell_type": "code",
   "execution_count": null,
   "metadata": {},
   "outputs": [],
   "source": [
    "def count(seq, b=0, e=None, verbose=True, tag=\"\"):\n",
    "    h = dict()\n",
    "    if e == None:\n",
    "        e = len(seq)\n",
    "    for i in range(b,e):\n",
    "        h[seq[i]] = h.get(seq[i], 0) + 1\n",
    "    if verbose:\n",
    "        print tag, \"\\tb:\", b, \"\\te:\", e\n",
    "        for key, value in h.items():\n",
    "            print key, value\n",
    "    return(h)\n",
    "\n",
    "#counts = count(protein)\n",
    "#counts = count(protein, b=1)"
   ]
  },
  {
   "cell_type": "code",
   "execution_count": 182,
   "metadata": {},
   "outputs": [],
   "source": [
    "def findkey(h, typ=\"min\", verbose=False):\n",
    "    mval = None \n",
    "    mkey = None\n",
    "    for key, val in h.items():\n",
    "        if verbose:\n",
    "            print key, value, typ, mkey, mval\n",
    "        if mval == None or (typ == \"min\" and mval > val) or (typ == \"max\" and mval < val):\n",
    "            mkey = key\n",
    "            mval = val\n",
    "            \n",
    "    return mkey\n",
    "\n",
    "#minkey = findkey(counts)\n",
    "#print minkey"
   ]
  },
  {
   "cell_type": "code",
   "execution_count": 174,
   "metadata": {},
   "outputs": [
    {
     "name": "stdout",
     "output_type": "stream",
     "text": [
      "[0, 0, 0]\n"
     ]
    }
   ],
   "source": [
    "def check_counts(h, hh, typ=\"min\"):\n",
    "    for key, val in hh.items():\n",
    "        if typ == \"min\":\n",
    "            h[key] = h[key] - hh[key]\n",
    "        elif typ == \"rep\":\n",
    "            h[key] = h[key] - hh[key]  # TODO   \n",
    "    vals = h.values()\n",
    "    for i in range(1,len(vals)):\n",
    "        if vals[0] != vals[i]:\n",
    "            return False\n",
    "    return True\n",
    "#check_counts(hh, hh)\n",
    "#print hh.values()"
   ]
  },
  {
   "cell_type": "code",
   "execution_count": 175,
   "metadata": {},
   "outputs": [
    {
     "name": "stdout",
     "output_type": "stream",
     "text": [
      "count \tb: 0 \te: 11\n",
      "A 3\n",
      "Q 2\n",
      "S 2\n",
      "T 2\n",
      "G 2\n",
      "prep:\tQ 11 5 2 \tLrms: [1, 6, 11]\n",
      "EUREKA\tlen: 1 b: 0 subseq: A\n",
      "EUREKA\tlen: 1 b: 3 subseq: A\n",
      "EUREKA\tlen: 1 b: 4 subseq: A\n",
      "EUREKA\tlen: 6 b: 1 subseq: SQAAGT\n",
      "EUREKA\tlen: 6 b: 2 subseq: QAAGTS\n",
      "EUREKA\tlen: 11 b: 0 subseq: ASQAAGTSTGQ\n",
      "END\n"
     ]
    }
   ],
   "source": [
    "def find_minlen_subseq():\n",
    "    protein = \"ASQLDRFRVFLGWDNGMMLVYQGNKTYEPWLNCDMASPTLSLVSKKAPKILKAADINTTLQPCLAFFIELLLKGIDNERIPNSGSGGREMGLLAPTYSSEATLVTRENNMMEGVHGFENMQDVEVIKLKLPEGYSDVCHFMFMLAGILYIVYDLQMHMSSERETGKFPNPLSDEEFDNPKVVVTNSFVLLEFTVTGAGARPSEQGQEPHNLGATKGSLAISSKTPEIHKDTNPASAQFEGKHTESDAKGVSNEDVFITKERDGREVEPTIKLSKKSVLNPMNVVYNPMLQISEGALRKHSMNDEITILNNTLINKERSVDLGAVSFVNDLLIDKLGCVSGKLAVQLNQSAPPEILHGKDPLTLFLGNTIALMLSKMQRIRVWEEYIFLNLHLALAWEPLLGNLKTHDSQKKWALCGFLIISRIRNLFESEGPVHGLRFSAMPCNTDTRQIKALERFPYAPEKPQWHGDELESPCRLVVASKLLASHDGVSIGKTIGSWPLPAQRYNAYVAWAANDSSILSARPGFAVKEDRLGHSLAQESGTIVVRNPQYGVRFINYNKDEHREFKREATFYPKTVVTHLGAIEGTLMFEIGDAAFTMLHLEEATDAEVRELYYMDMLDKKSSLGRACERIRRVLAPGDHKANGLESAIVSGQNGYEGRIRGLQTFQSNPLKKGRTHMAFCTTLHPFGGLKLVSSQLLKKELAVGTYGHQRTVLHSAEYSCPTSIPNLEGLMYNLISAQGEVNSDAKCHYAALAYICLQVRSVSMNQTEASDLRNFLETPILANDALASEQLLGSKKAKS\"\n",
    "    protein = \"ASQAAGTSTGQ\"\n",
    "    counts  = count(protein, verbose=True, tag=\"count\")\n",
    "    \n",
    "    minkey  = findkey(counts)\n",
    "    \n",
    "    L    = len(protein)   # length of protein\n",
    "    n    = len(counts)    # number of unique aa\n",
    "    m    = counts[minkey] # max number of aa occurance in the final subsequence\n",
    "    Lrms = [ L - n * i for i in reversed(range(m+1))] # length of removed subsequence\n",
    "    print \"prep:\\t\", minkey, L, n, m, \"\\tLrms:\", Lrms\n",
    "\n",
    "    for l in Lrms:\n",
    "        for b in range(L-l+1):\n",
    "            tag = \"subcount_\" + str(l) + \"_\" + str(b)\n",
    "            subcounts = count(protein, b=b, e=b+l, tag=tag, verbose=False)\n",
    "            if (check_counts(counts.copy(), subcounts)):\n",
    "                print \"EUREKA\\t\", \"len:\", l, \"b:\", b, \"subseq:\", protein[b:(b+l)]\n",
    "    print \"END\"\n",
    "find_minlen_subseq()\n"
   ]
  }
 ],
 "metadata": {
  "kernelspec": {
   "display_name": "Python 2",
   "language": "python",
   "name": "python2"
  },
  "language_info": {
   "codemirror_mode": {
    "name": "ipython",
    "version": 2
   },
   "file_extension": ".py",
   "mimetype": "text/x-python",
   "name": "python",
   "nbconvert_exporter": "python",
   "pygments_lexer": "ipython2",
   "version": "2.7.12"
  }
 },
 "nbformat": 4,
 "nbformat_minor": 2
}

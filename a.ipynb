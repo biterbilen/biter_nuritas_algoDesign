{
 "cells": [
  {
   "cell_type": "markdown",
   "metadata": {},
   "source": [
    "Source: http://nuritas.peptify.com:8080/job_test/test?id=Bioinformatician_01\n",
    "Problem\n",
    "Assume you have the protein sequence attached below. It's composed of 800 amino acids.\n",
    "\n",
    "Can you find the length of the shortest subsequence that needs to be replaced in order to have all the amino acids equally represented? That means same numbers of \"A\", \"C\", \"D\" and so on.\n",
    "\n",
    "Input the length of the sequence that you found into the \"Answer\" field to go to the next stage. \n",
    "\n",
    "NB: Make your code as efficient as you can, you might be asked to explain your solution if you are selected for an interview."
   ]
  },
  {
   "cell_type": "code",
   "execution_count": 1,
   "metadata": {},
   "outputs": [],
   "source": [
    "def count(seq, b=0, e=None, verbose=True, tag=\"\"):\n",
    "    h = dict()\n",
    "    if e == None:\n",
    "        e = len(seq)\n",
    "        \n",
    "    for i in range(b,e):\n",
    "        h[seq[i]] = h.get(seq[i], 0) + 1\n",
    "        \n",
    "    if verbose:\n",
    "        print tag, \"\\t\", seq[b:e], \"\\tb:\", b, \"\\te:\", e\n",
    "        for key, value in h.items():\n",
    "            print key, value\n",
    "    return(h)"
   ]
  },
  {
   "cell_type": "code",
   "execution_count": 17,
   "metadata": {},
   "outputs": [],
   "source": [
    "def check_counts(h, hh):\n",
    "    for key, val in h.items():\n",
    "        if hh.get(key, 0) < val:\n",
    "            return False\n",
    "    return True"
   ]
  },
  {
   "cell_type": "code",
   "execution_count": 18,
   "metadata": {},
   "outputs": [
    {
     "name": "stdout",
     "output_type": "stream",
     "text": [
      "prep:\t800 20 40 146 {'A': 20, 'C': -28, 'E': 18, 'D': -6, 'G': 17, 'F': -10, 'I': -1, 'H': -17, 'K': 8, 'M': -16, 'L': 52, 'N': 3, 'Q': -13, 'P': -2, 'S': 21, 'R': -3, 'T': 1, 'W': -32, 'V': 6, 'Y': -18}\n",
      "checked l 200\n",
      "checked l 300\n",
      "checked l 400\n",
      "EUREKA\tlen= 406 b= 329 subseq= LLIDKLGCVSGKLAVQLNQSAPPEILHGKDPLTLFLGNTIALMLSKMQRIRVWEEYIFLNLHLALAWEPLLGNLKTHDSQKKWALCGFLIISRIRNLFESEGPVHGLRFSAMPCNTDTRQIKALERFPYAPEKPQWHGDELESPCRLVVASKLLASHDGVSIGKTIGSWPLPAQRYNAYVAWAANDSSILSARPGFAVKEDRLGHSLAQESGTIVVRNPQYGVRFINYNKDEHREFKREATFYPKTVVTHLGAIEGTLMFEIGDAAFTMLHLEEATDAEVRELYYMDMLDKKSSLGRACERIRRVLAPGDHKANGLESAIVSGQNGYEGRIRGLQTFQSNPLKKGRTHMAFCTTLHPFGGLKLVSSQLLKKELAVGTYGHQRTVLHSAEYSCPTSIPNLEGLMYNL \n",
      "\n",
      "END\n"
     ]
    }
   ],
   "source": [
    "import numpy as np\n",
    "\n",
    "def find_minlen_repseq():\n",
    "    protein = \"ASQLDRFRVFLGWDNGMMLVYQGNKTYEPWLNCDMASPTLSLVSKKAPKILKAADINTTLQPCLAFFIELLLKGIDNERIPNSGSGGREMGLLAPTYSSEATLVTRENNMMEGVHGFENMQDVEVIKLKLPEGYSDVCHFMFMLAGILYIVYDLQMHMSSERETGKFPNPLSDEEFDNPKVVVTNSFVLLEFTVTGAGARPSEQGQEPHNLGATKGSLAISSKTPEIHKDTNPASAQFEGKHTESDAKGVSNEDVFITKERDGREVEPTIKLSKKSVLNPMNVVYNPMLQISEGALRKHSMNDEITILNNTLINKERSVDLGAVSFVNDLLIDKLGCVSGKLAVQLNQSAPPEILHGKDPLTLFLGNTIALMLSKMQRIRVWEEYIFLNLHLALAWEPLLGNLKTHDSQKKWALCGFLIISRIRNLFESEGPVHGLRFSAMPCNTDTRQIKALERFPYAPEKPQWHGDELESPCRLVVASKLLASHDGVSIGKTIGSWPLPAQRYNAYVAWAANDSSILSARPGFAVKEDRLGHSLAQESGTIVVRNPQYGVRFINYNKDEHREFKREATFYPKTVVTHLGAIEGTLMFEIGDAAFTMLHLEEATDAEVRELYYMDMLDKKSSLGRACERIRRVLAPGDHKANGLESAIVSGQNGYEGRIRGLQTFQSNPLKKGRTHMAFCTTLHPFGGLKLVSSQLLKKELAVGTYGHQRTVLHSAEYSCPTSIPNLEGLMYNLISAQGEVNSDAKCHYAALAYICLQVRSVSMNQTEASDLRNFLETPILANDALASEQLLGSKKAKS\"\n",
    "    #protein = \"ASQLDRFVASQLDRFA\"\n",
    "    counts  = count(protein, verbose=False, tag=\"count\")\n",
    "\n",
    "    L = len(protein)   # length of protein\n",
    "    n = len(counts.keys()) # number of uniq aa\n",
    "    m = L / n          # desired number of occurances for each aa \n",
    "    d = np.array(counts.values()) - m # edit distance for equal count\n",
    "\n",
    "    minL  = d[d>0].sum()\n",
    "    minL2 = d[d<0].sum()\n",
    "    Lrs   = range(minL, L) # length of replaced subsequence\n",
    "    target_counts = dict(zip(counts.keys(), d))\n",
    "    #print \"prep:\\t\", L, n, m, counts.keys(), counts.values(), d, minL, minL2, Lrs, target_counts\n",
    "    print \"prep:\\t\", L, n, m, minL, target_counts\n",
    "\n",
    "    if minL == -minL2: \n",
    "        eureka = False\n",
    "        for l in Lrs:\n",
    "            for b in range(L-l+1):\n",
    "                tag = \"subcount_\" + str(l) + \"_\" + str(b)\n",
    "                subcounts = count(protein, b=b, e=b+l, verbose=False, tag=tag)\n",
    "                if (check_counts(target_counts, subcounts)):\n",
    "                    eureka = True\n",
    "                    print \"EUREKA\\t\", \"len=\", l, \"b=\", b, \"subseq=\", protein[b:b+l], \"\\n\"\n",
    "                if eureka:\n",
    "                    break\n",
    "            if l % 100 == 0:\n",
    "                print \"checked\", \"l\", l\n",
    "            if eureka:\n",
    "                break\n",
    "    else:\n",
    "        print \"EUREKA\\tNot possible to equate aas in\", protein, minL, minL2\n",
    "    print \"END\"\n",
    "find_minlen_repseq()"
   ]
  }
 ],
 "metadata": {
  "kernelspec": {
   "display_name": "Python 2",
   "language": "python",
   "name": "python2"
  },
  "language_info": {
   "codemirror_mode": {
    "name": "ipython",
    "version": 2
   },
   "file_extension": ".py",
   "mimetype": "text/x-python",
   "name": "python",
   "nbconvert_exporter": "python",
   "pygments_lexer": "ipython2",
   "version": "2.7.12"
  }
 },
 "nbformat": 4,
 "nbformat_minor": 2
}
